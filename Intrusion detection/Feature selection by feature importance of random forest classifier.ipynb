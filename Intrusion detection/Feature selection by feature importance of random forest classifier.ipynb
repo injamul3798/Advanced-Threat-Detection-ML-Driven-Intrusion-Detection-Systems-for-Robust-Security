{
 "cells": [
  {
   "cell_type": "code",
   "execution_count": 1,
   "metadata": {
    "colab": {
     "base_uri": "https://localhost:8080/"
    },
    "id": "3O0WRWGDMU2R",
    "outputId": "dd2eae58-4bcb-4ffb-b7a8-abca090ae85d"
   },
   "outputs": [
    {
     "name": "stdout",
     "output_type": "stream",
     "text": [
      "Requirement already satisfied: scikit-plot in c:\\users\\hp\\anaconda3\\lib\\site-packages (0.3.7)\n",
      "Requirement already satisfied: matplotlib>=1.4.0 in c:\\users\\hp\\anaconda3\\lib\\site-packages (from scikit-plot) (3.4.3)\n",
      "Requirement already satisfied: scikit-learn>=0.18 in c:\\users\\hp\\anaconda3\\lib\\site-packages (from scikit-plot) (1.2.2)\n",
      "Requirement already satisfied: scipy>=0.9 in c:\\users\\hp\\anaconda3\\lib\\site-packages (from scikit-plot) (1.7.1)\n",
      "Requirement already satisfied: joblib>=0.10 in c:\\users\\hp\\anaconda3\\lib\\site-packages (from scikit-plot) (1.2.0)"
     ]
    },
    {
     "name": "stderr",
     "output_type": "stream",
     "text": [
      "WARNING: Ignoring invalid distribution -ensorflow-intel (c:\\users\\hp\\anaconda3\\lib\\site-packages)\n",
      "WARNING: Ignoring invalid distribution -rotobuf (c:\\users\\hp\\anaconda3\\lib\\site-packages)\n",
      "WARNING: Ignoring invalid distribution -ensorflow-intel (c:\\users\\hp\\anaconda3\\lib\\site-packages)\n",
      "WARNING: Ignoring invalid distribution -rotobuf (c:\\users\\hp\\anaconda3\\lib\\site-packages)\n"
     ]
    },
    {
     "name": "stdout",
     "output_type": "stream",
     "text": [
      "\n",
      "Requirement already satisfied: cycler>=0.10 in c:\\users\\hp\\anaconda3\\lib\\site-packages (from matplotlib>=1.4.0->scikit-plot) (0.10.0)\n",
      "Requirement already satisfied: kiwisolver>=1.0.1 in c:\\users\\hp\\anaconda3\\lib\\site-packages (from matplotlib>=1.4.0->scikit-plot) (1.3.1)\n",
      "Requirement already satisfied: numpy>=1.16 in c:\\users\\hp\\anaconda3\\lib\\site-packages (from matplotlib>=1.4.0->scikit-plot) (1.22.4)\n",
      "Requirement already satisfied: pillow>=6.2.0 in c:\\users\\hp\\anaconda3\\lib\\site-packages (from matplotlib>=1.4.0->scikit-plot) (8.4.0)\n",
      "Requirement already satisfied: pyparsing>=2.2.1 in c:\\users\\hp\\anaconda3\\lib\\site-packages (from matplotlib>=1.4.0->scikit-plot) (3.0.4)\n",
      "Requirement already satisfied: python-dateutil>=2.7 in c:\\users\\hp\\anaconda3\\lib\\site-packages (from matplotlib>=1.4.0->scikit-plot) (2.8.2)\n",
      "Requirement already satisfied: threadpoolctl>=2.0.0 in c:\\users\\hp\\anaconda3\\lib\\site-packages (from scikit-learn>=0.18->scikit-plot) (2.2.0)\n",
      "Requirement already satisfied: six in c:\\users\\hp\\anaconda3\\lib\\site-packages (from cycler>=0.10->matplotlib>=1.4.0->scikit-plot) (1.16.0)\n"
     ]
    }
   ],
   "source": [
    "# Import Dependenices\n",
    "import numpy as np\n",
    "import pandas as pd\n",
    "import matplotlib.pyplot as plt\n",
    "import seaborn as sns\n",
    "from sklearn.model_selection import train_test_split\n",
    "from sklearn.feature_selection import f_classif, f_regression\n",
    "from sklearn.feature_selection import SelectKBest, SelectPercentile\n",
    "%matplotlib inline\n",
    "!pip install scikit-plot"
   ]
  },
  {
   "cell_type": "code",
   "execution_count": 2,
   "metadata": {
    "colab": {
     "base_uri": "https://localhost:8080/"
    },
    "id": "UCjlzG7wMn--",
    "outputId": "1dbba850-b2bc-4d59-b97a-64a4cf328855"
   },
   "outputs": [
    {
     "data": {
      "text/plain": [
       "(170366, 79)"
      ]
     },
     "execution_count": 2,
     "metadata": {},
     "output_type": "execute_result"
    }
   ],
   "source": [
    "# Load Dataset\n",
    "df=pd.read_csv('E:\\\\tmp\\\\LabelingAFS.csv')\n",
    "df.shape"
   ]
  },
  {
   "cell_type": "code",
   "execution_count": 3,
   "metadata": {
    "colab": {
     "base_uri": "https://localhost:8080/",
     "height": 539
    },
    "id": "BbRRvpExMoEW",
    "outputId": "d88471a8-6114-43cd-8869-a585a781defb"
   },
   "outputs": [
    {
     "data": {
      "text/html": [
       "<div>\n",
       "<style scoped>\n",
       "    .dataframe tbody tr th:only-of-type {\n",
       "        vertical-align: middle;\n",
       "    }\n",
       "\n",
       "    .dataframe tbody tr th {\n",
       "        vertical-align: top;\n",
       "    }\n",
       "\n",
       "    .dataframe thead th {\n",
       "        text-align: right;\n",
       "    }\n",
       "</style>\n",
       "<table border=\"1\" class=\"dataframe\">\n",
       "  <thead>\n",
       "    <tr style=\"text-align: right;\">\n",
       "      <th></th>\n",
       "      <th>Destination Port</th>\n",
       "      <th>Flow Duration</th>\n",
       "      <th>Total Fwd Packets</th>\n",
       "      <th>Total Backward Packets</th>\n",
       "      <th>Total Length of Fwd Packets</th>\n",
       "      <th>Total Length of Bwd Packets</th>\n",
       "      <th>Fwd Packet Length Max</th>\n",
       "      <th>Fwd Packet Length Min</th>\n",
       "      <th>Fwd Packet Length Mean</th>\n",
       "      <th>Fwd Packet Length Std</th>\n",
       "      <th>...</th>\n",
       "      <th>min_seg_size_forward</th>\n",
       "      <th>Active Mean</th>\n",
       "      <th>Active Std</th>\n",
       "      <th>Active Max</th>\n",
       "      <th>Active Min</th>\n",
       "      <th>Idle Mean</th>\n",
       "      <th>Idle Std</th>\n",
       "      <th>Idle Max</th>\n",
       "      <th>Idle Min</th>\n",
       "      <th>Label</th>\n",
       "    </tr>\n",
       "  </thead>\n",
       "  <tbody>\n",
       "    <tr>\n",
       "      <th>0</th>\n",
       "      <td>389</td>\n",
       "      <td>113095465</td>\n",
       "      <td>48</td>\n",
       "      <td>24</td>\n",
       "      <td>9668</td>\n",
       "      <td>10012</td>\n",
       "      <td>403</td>\n",
       "      <td>0</td>\n",
       "      <td>201.416667</td>\n",
       "      <td>203.548293</td>\n",
       "      <td>...</td>\n",
       "      <td>32</td>\n",
       "      <td>203985.500</td>\n",
       "      <td>5.758373e+05</td>\n",
       "      <td>1629110</td>\n",
       "      <td>379</td>\n",
       "      <td>13800000.0</td>\n",
       "      <td>4.277541e+06</td>\n",
       "      <td>16500000</td>\n",
       "      <td>6737603</td>\n",
       "      <td>1</td>\n",
       "    </tr>\n",
       "    <tr>\n",
       "      <th>1</th>\n",
       "      <td>389</td>\n",
       "      <td>113473706</td>\n",
       "      <td>68</td>\n",
       "      <td>40</td>\n",
       "      <td>11364</td>\n",
       "      <td>12718</td>\n",
       "      <td>403</td>\n",
       "      <td>0</td>\n",
       "      <td>167.117647</td>\n",
       "      <td>171.919413</td>\n",
       "      <td>...</td>\n",
       "      <td>32</td>\n",
       "      <td>178326.875</td>\n",
       "      <td>5.034269e+05</td>\n",
       "      <td>1424245</td>\n",
       "      <td>325</td>\n",
       "      <td>13800000.0</td>\n",
       "      <td>4.229413e+06</td>\n",
       "      <td>16500000</td>\n",
       "      <td>6945512</td>\n",
       "      <td>1</td>\n",
       "    </tr>\n",
       "    <tr>\n",
       "      <th>2</th>\n",
       "      <td>0</td>\n",
       "      <td>119945515</td>\n",
       "      <td>150</td>\n",
       "      <td>0</td>\n",
       "      <td>0</td>\n",
       "      <td>0</td>\n",
       "      <td>0</td>\n",
       "      <td>0</td>\n",
       "      <td>0.000000</td>\n",
       "      <td>0.000000</td>\n",
       "      <td>...</td>\n",
       "      <td>0</td>\n",
       "      <td>6909777.333</td>\n",
       "      <td>1.170000e+07</td>\n",
       "      <td>20400000</td>\n",
       "      <td>6</td>\n",
       "      <td>24400000.0</td>\n",
       "      <td>2.430000e+07</td>\n",
       "      <td>60100000</td>\n",
       "      <td>5702188</td>\n",
       "      <td>1</td>\n",
       "    </tr>\n",
       "    <tr>\n",
       "      <th>3</th>\n",
       "      <td>443</td>\n",
       "      <td>60261928</td>\n",
       "      <td>9</td>\n",
       "      <td>7</td>\n",
       "      <td>2330</td>\n",
       "      <td>4221</td>\n",
       "      <td>1093</td>\n",
       "      <td>0</td>\n",
       "      <td>258.888889</td>\n",
       "      <td>409.702161</td>\n",
       "      <td>...</td>\n",
       "      <td>20</td>\n",
       "      <td>0.000</td>\n",
       "      <td>0.000000e+00</td>\n",
       "      <td>0</td>\n",
       "      <td>0</td>\n",
       "      <td>0.0</td>\n",
       "      <td>0.000000e+00</td>\n",
       "      <td>0</td>\n",
       "      <td>0</td>\n",
       "      <td>1</td>\n",
       "    </tr>\n",
       "    <tr>\n",
       "      <th>4</th>\n",
       "      <td>53</td>\n",
       "      <td>269</td>\n",
       "      <td>2</td>\n",
       "      <td>2</td>\n",
       "      <td>102</td>\n",
       "      <td>322</td>\n",
       "      <td>51</td>\n",
       "      <td>51</td>\n",
       "      <td>51.000000</td>\n",
       "      <td>0.000000</td>\n",
       "      <td>...</td>\n",
       "      <td>32</td>\n",
       "      <td>0.000</td>\n",
       "      <td>0.000000e+00</td>\n",
       "      <td>0</td>\n",
       "      <td>0</td>\n",
       "      <td>0.0</td>\n",
       "      <td>0.000000e+00</td>\n",
       "      <td>0</td>\n",
       "      <td>0</td>\n",
       "      <td>1</td>\n",
       "    </tr>\n",
       "    <tr>\n",
       "      <th>...</th>\n",
       "      <td>...</td>\n",
       "      <td>...</td>\n",
       "      <td>...</td>\n",
       "      <td>...</td>\n",
       "      <td>...</td>\n",
       "      <td>...</td>\n",
       "      <td>...</td>\n",
       "      <td>...</td>\n",
       "      <td>...</td>\n",
       "      <td>...</td>\n",
       "      <td>...</td>\n",
       "      <td>...</td>\n",
       "      <td>...</td>\n",
       "      <td>...</td>\n",
       "      <td>...</td>\n",
       "      <td>...</td>\n",
       "      <td>...</td>\n",
       "      <td>...</td>\n",
       "      <td>...</td>\n",
       "      <td>...</td>\n",
       "      <td>...</td>\n",
       "    </tr>\n",
       "    <tr>\n",
       "      <th>170361</th>\n",
       "      <td>55641</td>\n",
       "      <td>49</td>\n",
       "      <td>1</td>\n",
       "      <td>3</td>\n",
       "      <td>6</td>\n",
       "      <td>18</td>\n",
       "      <td>6</td>\n",
       "      <td>6</td>\n",
       "      <td>6.000000</td>\n",
       "      <td>0.000000</td>\n",
       "      <td>...</td>\n",
       "      <td>20</td>\n",
       "      <td>0.000</td>\n",
       "      <td>0.000000e+00</td>\n",
       "      <td>0</td>\n",
       "      <td>0</td>\n",
       "      <td>0.0</td>\n",
       "      <td>0.000000e+00</td>\n",
       "      <td>0</td>\n",
       "      <td>0</td>\n",
       "      <td>1</td>\n",
       "    </tr>\n",
       "    <tr>\n",
       "      <th>170362</th>\n",
       "      <td>45337</td>\n",
       "      <td>217</td>\n",
       "      <td>2</td>\n",
       "      <td>1</td>\n",
       "      <td>31</td>\n",
       "      <td>6</td>\n",
       "      <td>31</td>\n",
       "      <td>0</td>\n",
       "      <td>15.500000</td>\n",
       "      <td>21.920310</td>\n",
       "      <td>...</td>\n",
       "      <td>32</td>\n",
       "      <td>0.000</td>\n",
       "      <td>0.000000e+00</td>\n",
       "      <td>0</td>\n",
       "      <td>0</td>\n",
       "      <td>0.0</td>\n",
       "      <td>0.000000e+00</td>\n",
       "      <td>0</td>\n",
       "      <td>0</td>\n",
       "      <td>1</td>\n",
       "    </tr>\n",
       "    <tr>\n",
       "      <th>170363</th>\n",
       "      <td>22</td>\n",
       "      <td>1387547</td>\n",
       "      <td>41</td>\n",
       "      <td>46</td>\n",
       "      <td>2728</td>\n",
       "      <td>6634</td>\n",
       "      <td>456</td>\n",
       "      <td>0</td>\n",
       "      <td>66.536585</td>\n",
       "      <td>110.129945</td>\n",
       "      <td>...</td>\n",
       "      <td>32</td>\n",
       "      <td>0.000</td>\n",
       "      <td>0.000000e+00</td>\n",
       "      <td>0</td>\n",
       "      <td>0</td>\n",
       "      <td>0.0</td>\n",
       "      <td>0.000000e+00</td>\n",
       "      <td>0</td>\n",
       "      <td>0</td>\n",
       "      <td>1</td>\n",
       "    </tr>\n",
       "    <tr>\n",
       "      <th>170364</th>\n",
       "      <td>22</td>\n",
       "      <td>207</td>\n",
       "      <td>1</td>\n",
       "      <td>1</td>\n",
       "      <td>0</td>\n",
       "      <td>0</td>\n",
       "      <td>0</td>\n",
       "      <td>0</td>\n",
       "      <td>0.000000</td>\n",
       "      <td>0.000000</td>\n",
       "      <td>...</td>\n",
       "      <td>32</td>\n",
       "      <td>0.000</td>\n",
       "      <td>0.000000e+00</td>\n",
       "      <td>0</td>\n",
       "      <td>0</td>\n",
       "      <td>0.0</td>\n",
       "      <td>0.000000e+00</td>\n",
       "      <td>0</td>\n",
       "      <td>0</td>\n",
       "      <td>1</td>\n",
       "    </tr>\n",
       "    <tr>\n",
       "      <th>170365</th>\n",
       "      <td>60146</td>\n",
       "      <td>50</td>\n",
       "      <td>1</td>\n",
       "      <td>2</td>\n",
       "      <td>0</td>\n",
       "      <td>0</td>\n",
       "      <td>0</td>\n",
       "      <td>0</td>\n",
       "      <td>0.000000</td>\n",
       "      <td>0.000000</td>\n",
       "      <td>...</td>\n",
       "      <td>32</td>\n",
       "      <td>0.000</td>\n",
       "      <td>0.000000e+00</td>\n",
       "      <td>0</td>\n",
       "      <td>0</td>\n",
       "      <td>0.0</td>\n",
       "      <td>0.000000e+00</td>\n",
       "      <td>0</td>\n",
       "      <td>0</td>\n",
       "      <td>1</td>\n",
       "    </tr>\n",
       "  </tbody>\n",
       "</table>\n",
       "<p>170366 rows × 79 columns</p>\n",
       "</div>"
      ],
      "text/plain": [
       "         Destination Port   Flow Duration   Total Fwd Packets  \\\n",
       "0                     389       113095465                  48   \n",
       "1                     389       113473706                  68   \n",
       "2                       0       119945515                 150   \n",
       "3                     443        60261928                   9   \n",
       "4                      53             269                   2   \n",
       "...                   ...             ...                 ...   \n",
       "170361              55641              49                   1   \n",
       "170362              45337             217                   2   \n",
       "170363                 22         1387547                  41   \n",
       "170364                 22             207                   1   \n",
       "170365              60146              50                   1   \n",
       "\n",
       "         Total Backward Packets  Total Length of Fwd Packets  \\\n",
       "0                            24                         9668   \n",
       "1                            40                        11364   \n",
       "2                             0                            0   \n",
       "3                             7                         2330   \n",
       "4                             2                          102   \n",
       "...                         ...                          ...   \n",
       "170361                        3                            6   \n",
       "170362                        1                           31   \n",
       "170363                       46                         2728   \n",
       "170364                        1                            0   \n",
       "170365                        2                            0   \n",
       "\n",
       "         Total Length of Bwd Packets   Fwd Packet Length Max  \\\n",
       "0                              10012                     403   \n",
       "1                              12718                     403   \n",
       "2                                  0                       0   \n",
       "3                               4221                    1093   \n",
       "4                                322                      51   \n",
       "...                              ...                     ...   \n",
       "170361                            18                       6   \n",
       "170362                             6                      31   \n",
       "170363                          6634                     456   \n",
       "170364                             0                       0   \n",
       "170365                             0                       0   \n",
       "\n",
       "         Fwd Packet Length Min   Fwd Packet Length Mean  \\\n",
       "0                            0               201.416667   \n",
       "1                            0               167.117647   \n",
       "2                            0                 0.000000   \n",
       "3                            0               258.888889   \n",
       "4                           51                51.000000   \n",
       "...                        ...                      ...   \n",
       "170361                       6                 6.000000   \n",
       "170362                       0                15.500000   \n",
       "170363                       0                66.536585   \n",
       "170364                       0                 0.000000   \n",
       "170365                       0                 0.000000   \n",
       "\n",
       "         Fwd Packet Length Std  ...   min_seg_size_forward  Active Mean  \\\n",
       "0                   203.548293  ...                     32   203985.500   \n",
       "1                   171.919413  ...                     32   178326.875   \n",
       "2                     0.000000  ...                      0  6909777.333   \n",
       "3                   409.702161  ...                     20        0.000   \n",
       "4                     0.000000  ...                     32        0.000   \n",
       "...                        ...  ...                    ...          ...   \n",
       "170361                0.000000  ...                     20        0.000   \n",
       "170362               21.920310  ...                     32        0.000   \n",
       "170363              110.129945  ...                     32        0.000   \n",
       "170364                0.000000  ...                     32        0.000   \n",
       "170365                0.000000  ...                     32        0.000   \n",
       "\n",
       "          Active Std   Active Max   Active Min   Idle Mean      Idle Std  \\\n",
       "0       5.758373e+05      1629110          379  13800000.0  4.277541e+06   \n",
       "1       5.034269e+05      1424245          325  13800000.0  4.229413e+06   \n",
       "2       1.170000e+07     20400000            6  24400000.0  2.430000e+07   \n",
       "3       0.000000e+00            0            0         0.0  0.000000e+00   \n",
       "4       0.000000e+00            0            0         0.0  0.000000e+00   \n",
       "...              ...          ...          ...         ...           ...   \n",
       "170361  0.000000e+00            0            0         0.0  0.000000e+00   \n",
       "170362  0.000000e+00            0            0         0.0  0.000000e+00   \n",
       "170363  0.000000e+00            0            0         0.0  0.000000e+00   \n",
       "170364  0.000000e+00            0            0         0.0  0.000000e+00   \n",
       "170365  0.000000e+00            0            0         0.0  0.000000e+00   \n",
       "\n",
       "         Idle Max   Idle Min   Label  \n",
       "0        16500000    6737603       1  \n",
       "1        16500000    6945512       1  \n",
       "2        60100000    5702188       1  \n",
       "3               0          0       1  \n",
       "4               0          0       1  \n",
       "...           ...        ...     ...  \n",
       "170361          0          0       1  \n",
       "170362          0          0       1  \n",
       "170363          0          0       1  \n",
       "170364          0          0       1  \n",
       "170365          0          0       1  \n",
       "\n",
       "[170366 rows x 79 columns]"
      ]
     },
     "execution_count": 3,
     "metadata": {},
     "output_type": "execute_result"
    }
   ],
   "source": [
    "df"
   ]
  },
  {
   "cell_type": "code",
   "execution_count": 4,
   "metadata": {
    "colab": {
     "base_uri": "https://localhost:8080/"
    },
    "id": "1ptlpEWOMoHD",
    "outputId": "9bd68368-cf5a-4181-f4f5-11bc24f805fa"
   },
   "outputs": [
    {
     "data": {
      "text/plain": [
       " Destination Port        0\n",
       " ECE Flag Count          0\n",
       " Fwd Avg Packets/Bulk    0\n",
       "Fwd Avg Bytes/Bulk       0\n",
       " Fwd Header Length.1     0\n",
       "                        ..\n",
       "Bwd IAT Total            0\n",
       " Fwd IAT Min             0\n",
       " Fwd IAT Max             0\n",
       " Fwd IAT Std             0\n",
       " Label                   0\n",
       "Length: 79, dtype: int64"
      ]
     },
     "execution_count": 4,
     "metadata": {},
     "output_type": "execute_result"
    }
   ],
   "source": [
    "df.isnull().sum().sort_values(ascending=False).head(100)"
   ]
  },
  {
   "cell_type": "code",
   "execution_count": 5,
   "metadata": {
    "id": "p7yyBX0HMoJx"
   },
   "outputs": [],
   "source": [
    "df=df.fillna(method='ffill')"
   ]
  },
  {
   "cell_type": "code",
   "execution_count": 6,
   "metadata": {
    "id": "Cbu-7uGSMoMe"
   },
   "outputs": [],
   "source": [
    "y= df[' Label']\n",
    "x= df.drop(' Label', axis=1)"
   ]
  },
  {
   "cell_type": "code",
   "execution_count": 7,
   "metadata": {
    "id": "y921DIMZM29t"
   },
   "outputs": [],
   "source": [
    "import numpy as np\n",
    "from sklearn.impute import SimpleImputer\n",
    "from sklearn.preprocessing import MinMaxScaler"
   ]
  },
  {
   "cell_type": "code",
   "execution_count": 8,
   "metadata": {
    "id": "K-pz2gRcM3Ak"
   },
   "outputs": [],
   "source": [
    "nan_mask = np.isnan(x)\n",
    "inf_mask = np.isinf(x)\n",
    "has_nan = np.any(nan_mask)\n",
    "has_inf = np.any(inf_mask)"
   ]
  },
  {
   "cell_type": "code",
   "execution_count": 9,
   "metadata": {
    "id": "0Xjf8aaPM3Fx"
   },
   "outputs": [],
   "source": [
    "x = x[~np.any(nan_mask, axis=1)]\n",
    "x = x[~np.any(inf_mask, axis=1)]\n",
    "y = y[~np.any(nan_mask, axis=1)]\n",
    "y = y[~np.any(inf_mask, axis=1)]"
   ]
  },
  {
   "cell_type": "code",
   "execution_count": 10,
   "metadata": {
    "id": "G1S0FPKFM3Im"
   },
   "outputs": [],
   "source": [
    "from sklearn.model_selection import train_test_split\n",
    "X_train, X_test, y_train, y_test = train_test_split(x, y, test_size=0.3, random_state=42)\n"
   ]
  },
  {
   "cell_type": "markdown",
   "metadata": {},
   "source": [
    "Feature selection by feature importance of random forest classifier\n",
    "we got 24 features"
   ]
  },
  {
   "cell_type": "code",
   "execution_count": 12,
   "metadata": {},
   "outputs": [],
   "source": [
    "from sklearn.model_selection import train_test_split\n",
    "from sklearn.ensemble import RandomForestClassifier\n",
    "from sklearn.feature_selection import SelectFromModel\n",
    "from sklearn.metrics import accuracy_score"
   ]
  },
  {
   "cell_type": "code",
   "execution_count": 13,
   "metadata": {},
   "outputs": [
    {
     "data": {
      "text/plain": [
       "array([ True,  True, False, False, False, False,  True, False, False,\n",
       "       False, False, False, False, False, False,  True,  True,  True,\n",
       "        True,  True,  True,  True,  True,  True,  True, False, False,\n",
       "       False, False, False, False, False, False, False,  True, False,\n",
       "        True,  True, False,  True,  True, False, False, False, False,\n",
       "       False, False, False, False, False, False, False,  True,  True,\n",
       "       False,  True, False, False, False, False, False, False, False,\n",
       "        True, False, False,  True,  True, False, False, False, False,\n",
       "       False, False, False, False, False, False])"
      ]
     },
     "execution_count": 13,
     "metadata": {},
     "output_type": "execute_result"
    }
   ],
   "source": [
    "sel = SelectFromModel(RandomForestClassifier(n_estimators=100, random_state=0, n_jobs=-1))\n",
    "sel.fit(X_train, y_train)\n",
    "sel.get_support()"
   ]
  },
  {
   "cell_type": "code",
   "execution_count": 14,
   "metadata": {},
   "outputs": [
    {
     "data": {
      "text/plain": [
       "Index([' Destination Port', ' Flow Duration', ' Total Fwd Packets',\n",
       "       ' Total Backward Packets', 'Total Length of Fwd Packets',\n",
       "       ' Total Length of Bwd Packets', ' Fwd Packet Length Max',\n",
       "       ' Fwd Packet Length Min', ' Fwd Packet Length Mean',\n",
       "       ' Fwd Packet Length Std', 'Bwd Packet Length Max',\n",
       "       ' Bwd Packet Length Min', ' Bwd Packet Length Mean',\n",
       "       ' Bwd Packet Length Std', 'Flow Bytes/s', ' Flow Packets/s',\n",
       "       ' Flow IAT Mean', ' Flow IAT Std', ' Flow IAT Max', ' Flow IAT Min',\n",
       "       'Fwd IAT Total', ' Fwd IAT Mean', ' Fwd IAT Std', ' Fwd IAT Max',\n",
       "       ' Fwd IAT Min', 'Bwd IAT Total', ' Bwd IAT Mean', ' Bwd IAT Std',\n",
       "       ' Bwd IAT Max', ' Bwd IAT Min', 'Fwd PSH Flags', ' Bwd PSH Flags',\n",
       "       ' Fwd URG Flags', ' Bwd URG Flags', ' Fwd Header Length',\n",
       "       ' Bwd Header Length', 'Fwd Packets/s', ' Bwd Packets/s',\n",
       "       ' Min Packet Length', ' Max Packet Length', ' Packet Length Mean',\n",
       "       ' Packet Length Std', ' Packet Length Variance', 'FIN Flag Count',\n",
       "       ' SYN Flag Count', ' RST Flag Count', ' PSH Flag Count',\n",
       "       ' ACK Flag Count', ' URG Flag Count', ' CWE Flag Count',\n",
       "       ' ECE Flag Count', ' Down/Up Ratio', ' Average Packet Size',\n",
       "       ' Avg Fwd Segment Size', ' Avg Bwd Segment Size',\n",
       "       ' Fwd Header Length.1', 'Fwd Avg Bytes/Bulk', ' Fwd Avg Packets/Bulk',\n",
       "       ' Fwd Avg Bulk Rate', ' Bwd Avg Bytes/Bulk', ' Bwd Avg Packets/Bulk',\n",
       "       'Bwd Avg Bulk Rate', 'Subflow Fwd Packets', ' Subflow Fwd Bytes',\n",
       "       ' Subflow Bwd Packets', ' Subflow Bwd Bytes', 'Init_Win_bytes_forward',\n",
       "       ' Init_Win_bytes_backward', ' act_data_pkt_fwd',\n",
       "       ' min_seg_size_forward', 'Active Mean', ' Active Std', ' Active Max',\n",
       "       ' Active Min', 'Idle Mean', ' Idle Std', ' Idle Max', ' Idle Min'],\n",
       "      dtype='object')"
      ]
     },
     "execution_count": 14,
     "metadata": {},
     "output_type": "execute_result"
    }
   ],
   "source": [
    "X_train.columns"
   ]
  },
  {
   "cell_type": "code",
   "execution_count": 15,
   "metadata": {},
   "outputs": [
    {
     "data": {
      "text/plain": [
       "Index([' Destination Port', ' Flow Duration', ' Fwd Packet Length Max',\n",
       "       ' Flow Packets/s', ' Flow IAT Mean', ' Flow IAT Std', ' Flow IAT Max',\n",
       "       ' Flow IAT Min', 'Fwd IAT Total', ' Fwd IAT Mean', ' Fwd IAT Std',\n",
       "       ' Fwd IAT Max', ' Fwd IAT Min', ' Fwd Header Length', 'Fwd Packets/s',\n",
       "       ' Bwd Packets/s', ' Max Packet Length', ' Packet Length Mean',\n",
       "       ' Average Packet Size', ' Avg Fwd Segment Size', ' Fwd Header Length.1',\n",
       "       ' Subflow Fwd Bytes', 'Init_Win_bytes_forward',\n",
       "       ' Init_Win_bytes_backward'],\n",
       "      dtype='object')"
      ]
     },
     "execution_count": 15,
     "metadata": {},
     "output_type": "execute_result"
    }
   ],
   "source": [
    "features = X_train.columns[sel.get_support()]\n",
    "features"
   ]
  },
  {
   "cell_type": "code",
   "execution_count": 16,
   "metadata": {},
   "outputs": [
    {
     "data": {
      "text/plain": [
       "24"
      ]
     },
     "execution_count": 16,
     "metadata": {},
     "output_type": "execute_result"
    }
   ],
   "source": [
    "len(features)"
   ]
  },
  {
   "cell_type": "code",
   "execution_count": 17,
   "metadata": {},
   "outputs": [
    {
     "data": {
      "text/plain": [
       "0.01282051282051282"
      ]
     },
     "execution_count": 17,
     "metadata": {},
     "output_type": "execute_result"
    }
   ],
   "source": [
    "np.mean(sel.estimator_.feature_importances_)"
   ]
  },
  {
   "cell_type": "code",
   "execution_count": 18,
   "metadata": {},
   "outputs": [
    {
     "data": {
      "text/plain": [
       "array([2.98777671e-02, 2.88981264e-02, 3.85855499e-03, 3.26806950e-03,\n",
       "       1.20774774e-02, 1.86278231e-03, 1.56579561e-02, 1.15507841e-05,\n",
       "       9.76870348e-03, 5.79697665e-03, 2.38417333e-03, 1.95607811e-05,\n",
       "       2.14502350e-03, 1.25132732e-03, 1.18345456e-02, 3.01550131e-02,\n",
       "       4.38664335e-02, 3.72940777e-02, 2.96392066e-02, 6.76575798e-02,\n",
       "       3.19462888e-02, 3.46817670e-02, 8.31304825e-02, 2.78660216e-02,\n",
       "       1.44503192e-01, 2.43171108e-03, 2.47562654e-03, 8.62401763e-04,\n",
       "       5.32410108e-03, 1.90812385e-03, 1.12020871e-09, 0.00000000e+00,\n",
       "       0.00000000e+00, 0.00000000e+00, 1.83161182e-02, 1.09669328e-02,\n",
       "       2.45614937e-02, 2.85116240e-02, 2.22808978e-04, 1.73425421e-02,\n",
       "       1.58687386e-02, 4.68962579e-03, 4.23266798e-03, 0.00000000e+00,\n",
       "       0.00000000e+00, 0.00000000e+00, 7.91770014e-03, 4.37369862e-03,\n",
       "       3.02834794e-03, 0.00000000e+00, 0.00000000e+00, 1.56303608e-03,\n",
       "       2.45114495e-02, 1.34274308e-02, 1.34927325e-03, 1.81726483e-02,\n",
       "       0.00000000e+00, 0.00000000e+00, 0.00000000e+00, 0.00000000e+00,\n",
       "       0.00000000e+00, 0.00000000e+00, 4.08576027e-03, 1.30057783e-02,\n",
       "       3.92436495e-03, 5.44115391e-03, 1.78826553e-02, 5.90141385e-02,\n",
       "       1.22526148e-02, 3.39825844e-03, 4.34689880e-04, 6.26551451e-05,\n",
       "       5.68700976e-04, 2.84687076e-03, 4.40999546e-04, 2.12665655e-05,\n",
       "       4.07521915e-03, 1.03411398e-03])"
      ]
     },
     "execution_count": 18,
     "metadata": {},
     "output_type": "execute_result"
    }
   ],
   "source": [
    "sel.estimator_.feature_importances_"
   ]
  },
  {
   "cell_type": "code",
   "execution_count": 19,
   "metadata": {},
   "outputs": [],
   "source": [
    "X_train_rfc = sel.transform(X_train)\n",
    "X_test_rfc = sel.transform(X_test)"
   ]
  },
  {
   "cell_type": "code",
   "execution_count": 20,
   "metadata": {},
   "outputs": [],
   "source": [
    "def run_randomForest(X_train, X_test, y_train, y_test):\n",
    "    clf = RandomForestClassifier(n_estimators=100, random_state=0, n_jobs=-1)\n",
    "    clf.fit(X_train, y_train)\n",
    "    y_pred = clf.predict(X_test)\n",
    "    print('Accuracy: ', accuracy_score(y_test, y_pred))"
   ]
  },
  {
   "cell_type": "code",
   "execution_count": 21,
   "metadata": {},
   "outputs": [
    {
     "name": "stdout",
     "output_type": "stream",
     "text": [
      "Accuracy:  0.9957509300959467\n",
      "Wall time: 12.7 s\n"
     ]
    }
   ],
   "source": [
    "%%time\n",
    "run_randomForest(X_train_rfc, X_test_rfc, y_train, y_test)"
   ]
  },
  {
   "cell_type": "code",
   "execution_count": 22,
   "metadata": {},
   "outputs": [
    {
     "name": "stdout",
     "output_type": "stream",
     "text": [
      "Accuracy:  0.9957313491286469\n",
      "Wall time: 13.2 s\n"
     ]
    }
   ],
   "source": [
    "%%time\n",
    "run_randomForest(X_train, X_test, y_train, y_test)"
   ]
  },
  {
   "cell_type": "markdown",
   "metadata": {},
   "source": [
    "Recursive Feature Elimination (RFE)"
   ]
  },
  {
   "cell_type": "code",
   "execution_count": null,
   "metadata": {},
   "outputs": [],
   "source": []
  }
 ],
 "metadata": {
  "accelerator": "GPU",
  "colab": {
   "gpuType": "T4",
   "provenance": []
  },
  "kernelspec": {
   "display_name": "Python 3 (ipykernel)",
   "language": "python",
   "name": "python3"
  },
  "language_info": {
   "codemirror_mode": {
    "name": "ipython",
    "version": 3
   },
   "file_extension": ".py",
   "mimetype": "text/x-python",
   "name": "python",
   "nbconvert_exporter": "python",
   "pygments_lexer": "ipython3",
   "version": "3.9.7"
  }
 },
 "nbformat": 4,
 "nbformat_minor": 1
}
